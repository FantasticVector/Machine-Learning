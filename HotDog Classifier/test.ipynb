{
 "cells": [
  {
   "cell_type": "code",
   "execution_count": null,
   "metadata": {},
   "outputs": [],
   "source": [
    "# Training Model\n",
    "def train_model():\n",
    "  model = initailize_model()\n",
    "  # Data Generator and Iterator\n",
    "  datagen = tf.keras.preprocessing.image.ImageDataGenerator()\n",
    "  train_datagen = datagen.flow_from_directory(TRAIN_PATH, classmode='categorical', batch_size=64, target_size=(150, 150))\n",
    "  valid_datagen = datagen.flow_from_directory(VALID_PATH, classmode='categorical', batch_size=64, target_size=(150, 150))\n",
    "\n",
    "  # Fit Model\n",
    "  history = model.fit(\n",
    "    train_datagen, \n",
    "    steps_per_epoch=len(train_datagen),\n",
    "    valildation_data = test_datagen,\n",
    "    validation_steps=len(test_datagen),\n",
    "    epochs=20, verbose=0)\n",
    "  \n",
    "  # Save Model Weights\n",
    "  model.save_weights('weights.h5')\n",
    "  # Evaluating\n",
    "  _, accuracy = model.evaluate_generator(test_datagen, steps=len(test_datagen),verbose=1)\n",
    "  print('Accuracy: %.3f'%(accuracy*100.0))\n",
    "\n",
    "  # Ploting Accuracy and Loss\n",
    "  training_graph(history)"
   ]
  },
  {
   "cell_type": "code",
   "execution_count": 1,
   "metadata": {},
   "outputs": [],
   "source": [
    "def func(i):\n",
    "  i+=1\n",
    "  yield i"
   ]
  },
  {
   "cell_type": "code",
   "execution_count": 3,
   "metadata": {},
   "outputs": [
    {
     "name": "stdout",
     "output_type": "stream",
     "text": [
      "<generator object func at 0x0000025926189120>\n"
     ]
    }
   ],
   "source": [
    "def find_position(string):\n",
    "    start = 1\n",
    "    end = 100\n",
    "    print(''.join([i for i in range(start, end)]a)"
   ]
  },
  {
   "cell_type": "code",
   "execution_count": null,
   "metadata": {},
   "outputs": [],
   "source": []
  }
 ],
 "metadata": {
  "kernelspec": {
   "display_name": "Python 3.9.7 ('portfolio_env': venv)",
   "language": "python",
   "name": "python3"
  },
  "language_info": {
   "codemirror_mode": {
    "name": "ipython",
    "version": 3
   },
   "file_extension": ".py",
   "mimetype": "text/x-python",
   "name": "python",
   "nbconvert_exporter": "python",
   "pygments_lexer": "ipython3",
   "version": "3.9.7"
  },
  "orig_nbformat": 4,
  "vscode": {
   "interpreter": {
    "hash": "4a98f9d384d7018ca38f411b6d4580591cc7dfe9a78d3aeaeb0f86c557119c00"
   }
  }
 },
 "nbformat": 4,
 "nbformat_minor": 2
}
